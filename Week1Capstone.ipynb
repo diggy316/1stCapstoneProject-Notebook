{
 "cells": [
  {
   "cell_type": "markdown",
   "metadata": {},
   "source": [
    "<a href=\"https://www.coursera.org/\"><img src = \"https://s3.amazonaws.com/coursera/media/Partner_Logos.png\" width = 400></a>\n",
    "\n",
    "<h1 align = center><font size = 5> Capstone Project </font></h1>\n",
    "<h2 align = center><font size = 6> Future Crime Rates: </font></h2>\n",
    "<h1 align = center><font size = 3> <strong><em>Based On Common Social Factors Placed Upon A Young Child</strong></em> </font></h1>                              "
   ]
  },
  {
   "cell_type": "markdown",
   "metadata": {},
   "source": [
    "<h1><strong> Introduction/Business Problem </strong></h1> \n",
    "What makes a criminal? What if it was possible to assess future crime rates in the United States? What if it was possible to stop those future crime rates? According to many outlets, there are different social factors that play apart in the making of a criminal. Such as, living below the poverty level, not having a steady employment or income. My capstone project wants to analyze a child and the social factors that are placed upon them that could possibly contribute to them being lead the wrong way and how to stop this process. But also, this could possibly contribute to assess more funds for police departments due to a possible fluctuation in crime rates.\n",
    "  \n",
    "    \n",
    "\n",
    "<h1><strong> Data </strong></h1>\n",
    "I will be using some common social factors to analyze the growth of crime rates. This data will include all 50 states, from the years 2016 to possibly 2018. The social factors that will be analyzed are as follow: \n",
    "\n",
    "<strong> Economic Well-Being, Family & Community(environment), Mental Health </strong>\n",
    "\n",
    "<ul>\n",
    "    <li>\n",
    "    Children with at least one unemployed parent</li>\n",
    "    <li>\n",
    "        Children whose parents lack secure employment</li>\n",
    "    <li>\n",
    "        Children living in low-income households with no working adults</li>\n",
    "    <li>\n",
    "        Children living in below 250% poverty</li>    \n",
    "    <li>\n",
    "        Children who live in unsafe communities</li>\n",
    "    <li>\n",
    "        Children who have experienced two or more adverse experiences</li>\n",
    "    <li>\n",
    "        Children in kinship care</li>\n",
    "    <li>\n",
    "        Children living with cohabiting domestic partners</li>\n",
    "    <li>\n",
    "        Children of parents who have been incarcerated</li>\n",
    "    <li>\n",
    "        Children who have experienced two or more adverse experiences by race & ethnicity</li>\n",
    "    <li>\n",
    "    Children in single-parent families</li>\n",
    "    <li>\n",
    "        Children who have one or more emotional, behavioral, or developmental conditions</li>\n",
    "</ul>"
   ]
  },
  {
   "cell_type": "code",
   "execution_count": null,
   "metadata": {},
   "outputs": [],
   "source": []
  },
  {
   "cell_type": "code",
   "execution_count": null,
   "metadata": {},
   "outputs": [],
   "source": []
  }
 ],
 "metadata": {
  "kernelspec": {
   "display_name": "Python 3",
   "language": "python",
   "name": "python3"
  },
  "language_info": {
   "codemirror_mode": {
    "name": "ipython",
    "version": 3
   },
   "file_extension": ".py",
   "mimetype": "text/x-python",
   "name": "python",
   "nbconvert_exporter": "python",
   "pygments_lexer": "ipython3",
   "version": "3.7.3"
  }
 },
 "nbformat": 4,
 "nbformat_minor": 4
}
